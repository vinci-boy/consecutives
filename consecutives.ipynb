{
 "cells": [
  {
   "cell_type": "code",
   "execution_count": 1,
   "metadata": {},
   "outputs": [],
   "source": [
    "def max_cons(list):\n",
    "    count = 1\n",
    "    empty = []\n",
    "    for i in range(len(list) - 1):\n",
    "        Item = list[i]\n",
    "        if Item == list[i + 1]:\n",
    "            count = count +1\n",
    "        else:\n",
    "            empty.append(count)\n",
    "            count = 1\n",
    "    return max(empty)"
   ]
  },
  {
   "cell_type": "markdown",
   "metadata": {},
   "source": [
    "#### Example"
   ]
  },
  {
   "cell_type": "code",
   "execution_count": 2,
   "metadata": {},
   "outputs": [
    {
     "data": {
      "text/plain": [
       "3"
      ]
     },
     "execution_count": 2,
     "metadata": {},
     "output_type": "execute_result"
    }
   ],
   "source": [
    "I =  [1, 0, 1, 1, 1, 0, 0, 1, 0, 0, 1, 0, 1, 1]\n",
    "\n",
    "def max_cons(list):\n",
    "    count = 1\n",
    "    empty = []\n",
    "    for i in range(len(list) - 1):\n",
    "        Item = list[i]\n",
    "        if Item == list[i + 1]:\n",
    "            count = count +1\n",
    "        else:\n",
    "            empty.append(count)\n",
    "            count = 1\n",
    "    return max(empty)\n",
    "max_cons(I)"
   ]
  },
  {
   "cell_type": "markdown",
   "metadata": {},
   "source": [
    "#### List of Consecutives"
   ]
  },
  {
   "cell_type": "code",
   "execution_count": 3,
   "metadata": {},
   "outputs": [],
   "source": [
    "def consecutives(list):\n",
    "    count = 1\n",
    "    empty = []\n",
    "    final = []\n",
    "    for i in range(len(list) - 1):\n",
    "        Item = list[i]\n",
    "        if Item == list[i + 1]:\n",
    "            count = count +1\n",
    "        else:\n",
    "            empty.append(count)\n",
    "            count = 1\n",
    "    for i in empty:\n",
    "        if i > 1:\n",
    "            final.append(i)\n",
    "    return final"
   ]
  },
  {
   "cell_type": "code",
   "execution_count": 4,
   "metadata": {},
   "outputs": [],
   "source": [
    "#Example"
   ]
  },
  {
   "cell_type": "code",
   "execution_count": 5,
   "metadata": {},
   "outputs": [
    {
     "data": {
      "text/plain": [
       "[3, 2, 2]"
      ]
     },
     "execution_count": 5,
     "metadata": {},
     "output_type": "execute_result"
    }
   ],
   "source": [
    "I =  [1, 0, 1, 1, 1, 0, 0, 1, 0, 0, 1, 0, 1, 1]\n",
    "\n",
    "def consecutives(list):\n",
    "    count = 1\n",
    "    empty = []\n",
    "    final = []\n",
    "    for i in range(len(list) - 1):\n",
    "        Item = list[i]\n",
    "        if Item == list[i + 1]:\n",
    "            count = count +1\n",
    "        else:\n",
    "            empty.append(count)\n",
    "            count = 1\n",
    "    for i in empty:\n",
    "        if i > 1:\n",
    "            final.append(i)\n",
    "    return final\n",
    "    \n",
    "\n",
    "consecutives(I)"
   ]
  },
  {
   "cell_type": "code",
   "execution_count": null,
   "metadata": {},
   "outputs": [],
   "source": []
  }
 ],
 "metadata": {
  "kernelspec": {
   "display_name": "Python 3",
   "language": "python",
   "name": "python3"
  },
  "language_info": {
   "codemirror_mode": {
    "name": "ipython",
    "version": 3
   },
   "file_extension": ".py",
   "mimetype": "text/x-python",
   "name": "python",
   "nbconvert_exporter": "python",
   "pygments_lexer": "ipython3",
   "version": "3.8.3"
  }
 },
 "nbformat": 4,
 "nbformat_minor": 4
}
